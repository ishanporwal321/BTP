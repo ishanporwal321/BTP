{
 "cells": [
  {
   "cell_type": "code",
   "execution_count": 1,
   "id": "4f16522f-5fed-4b09-85ce-fd3d9b99d6b5",
   "metadata": {},
   "outputs": [],
   "source": [
    "import pandas as pd"
   ]
  },
  {
   "cell_type": "code",
   "execution_count": 14,
   "id": "0b73ef69-2892-4064-911f-0420e11034f8",
   "metadata": {},
   "outputs": [],
   "source": [
    "df=pd.read_csv('temp.csv')"
   ]
  },
  {
   "cell_type": "code",
   "execution_count": 15,
   "id": "4fe5a37f-eff1-4354-aab8-b76bbfb695e4",
   "metadata": {},
   "outputs": [
    {
     "data": {
      "text/html": [
       "<div>\n",
       "<style scoped>\n",
       "    .dataframe tbody tr th:only-of-type {\n",
       "        vertical-align: middle;\n",
       "    }\n",
       "\n",
       "    .dataframe tbody tr th {\n",
       "        vertical-align: top;\n",
       "    }\n",
       "\n",
       "    .dataframe thead th {\n",
       "        text-align: right;\n",
       "    }\n",
       "</style>\n",
       "<table border=\"1\" class=\"dataframe\">\n",
       "  <thead>\n",
       "    <tr style=\"text-align: right;\">\n",
       "      <th></th>\n",
       "      <th>Timestamp</th>\n",
       "      <th>Admin/AHU-101 INLET TEMP (°C)</th>\n",
       "    </tr>\n",
       "  </thead>\n",
       "  <tbody>\n",
       "    <tr>\n",
       "      <th>0</th>\n",
       "      <td>17-Jun-24 6:45:00 AM IST</td>\n",
       "      <td>25.1</td>\n",
       "    </tr>\n",
       "    <tr>\n",
       "      <th>1</th>\n",
       "      <td>17-Jun-24 7:00:00 AM IST</td>\n",
       "      <td>25.1</td>\n",
       "    </tr>\n",
       "    <tr>\n",
       "      <th>2</th>\n",
       "      <td>17-Jun-24 7:15:00 AM IST</td>\n",
       "      <td>25.1</td>\n",
       "    </tr>\n",
       "    <tr>\n",
       "      <th>3</th>\n",
       "      <td>17-Jun-24 7:30:01 AM IST</td>\n",
       "      <td>25.2</td>\n",
       "    </tr>\n",
       "    <tr>\n",
       "      <th>4</th>\n",
       "      <td>17-Jun-24 7:45:00 AM IST</td>\n",
       "      <td>25.2</td>\n",
       "    </tr>\n",
       "    <tr>\n",
       "      <th>...</th>\n",
       "      <td>...</td>\n",
       "      <td>...</td>\n",
       "    </tr>\n",
       "    <tr>\n",
       "      <th>2995</th>\n",
       "      <td>18-Jul-24 11:30:00 AM IST</td>\n",
       "      <td>9.1</td>\n",
       "    </tr>\n",
       "    <tr>\n",
       "      <th>2996</th>\n",
       "      <td>18-Jul-24 11:45:00 AM IST</td>\n",
       "      <td>9.1</td>\n",
       "    </tr>\n",
       "    <tr>\n",
       "      <th>2997</th>\n",
       "      <td>18-Jul-24 12:00:01 PM IST</td>\n",
       "      <td>9.1</td>\n",
       "    </tr>\n",
       "    <tr>\n",
       "      <th>2998</th>\n",
       "      <td>18-Jul-24 12:15:00 PM IST</td>\n",
       "      <td>9.0</td>\n",
       "    </tr>\n",
       "    <tr>\n",
       "      <th>2999</th>\n",
       "      <td>18-Jul-24 12:30:00 PM IST</td>\n",
       "      <td>9.0</td>\n",
       "    </tr>\n",
       "  </tbody>\n",
       "</table>\n",
       "<p>3000 rows × 2 columns</p>\n",
       "</div>"
      ],
      "text/plain": [
       "                      Timestamp  Admin/AHU-101 INLET TEMP (°C)\n",
       "0      17-Jun-24 6:45:00 AM IST                           25.1\n",
       "1      17-Jun-24 7:00:00 AM IST                           25.1\n",
       "2      17-Jun-24 7:15:00 AM IST                           25.1\n",
       "3      17-Jun-24 7:30:01 AM IST                           25.2\n",
       "4      17-Jun-24 7:45:00 AM IST                           25.2\n",
       "...                         ...                            ...\n",
       "2995  18-Jul-24 11:30:00 AM IST                            9.1\n",
       "2996  18-Jul-24 11:45:00 AM IST                            9.1\n",
       "2997  18-Jul-24 12:00:01 PM IST                            9.1\n",
       "2998  18-Jul-24 12:15:00 PM IST                            9.0\n",
       "2999  18-Jul-24 12:30:00 PM IST                            9.0\n",
       "\n",
       "[3000 rows x 2 columns]"
      ]
     },
     "execution_count": 15,
     "metadata": {},
     "output_type": "execute_result"
    }
   ],
   "source": [
    "df"
   ]
  },
  {
   "cell_type": "code",
   "execution_count": 18,
   "id": "bd3e8aea-1eaf-4016-9156-bb8807720d8c",
   "metadata": {},
   "outputs": [],
   "source": [
    "df.rename(columns={'Timestamp': 'ds'}, inplace=True)\n",
    "df.rename(columns={'Admin/AHU-101 INLET TEMP (°C)': 'y'}, inplace=True)\n"
   ]
  },
  {
   "cell_type": "code",
   "execution_count": 19,
   "id": "b179565f-dcda-40a3-b2ab-a04b9ef97dab",
   "metadata": {},
   "outputs": [
    {
     "data": {
      "text/html": [
       "<div>\n",
       "<style scoped>\n",
       "    .dataframe tbody tr th:only-of-type {\n",
       "        vertical-align: middle;\n",
       "    }\n",
       "\n",
       "    .dataframe tbody tr th {\n",
       "        vertical-align: top;\n",
       "    }\n",
       "\n",
       "    .dataframe thead th {\n",
       "        text-align: right;\n",
       "    }\n",
       "</style>\n",
       "<table border=\"1\" class=\"dataframe\">\n",
       "  <thead>\n",
       "    <tr style=\"text-align: right;\">\n",
       "      <th></th>\n",
       "      <th>ds</th>\n",
       "      <th>y</th>\n",
       "    </tr>\n",
       "  </thead>\n",
       "  <tbody>\n",
       "    <tr>\n",
       "      <th>0</th>\n",
       "      <td>17-Jun-24 6:45:00 AM IST</td>\n",
       "      <td>25.1</td>\n",
       "    </tr>\n",
       "    <tr>\n",
       "      <th>1</th>\n",
       "      <td>17-Jun-24 7:00:00 AM IST</td>\n",
       "      <td>25.1</td>\n",
       "    </tr>\n",
       "    <tr>\n",
       "      <th>2</th>\n",
       "      <td>17-Jun-24 7:15:00 AM IST</td>\n",
       "      <td>25.1</td>\n",
       "    </tr>\n",
       "    <tr>\n",
       "      <th>3</th>\n",
       "      <td>17-Jun-24 7:30:01 AM IST</td>\n",
       "      <td>25.2</td>\n",
       "    </tr>\n",
       "    <tr>\n",
       "      <th>4</th>\n",
       "      <td>17-Jun-24 7:45:00 AM IST</td>\n",
       "      <td>25.2</td>\n",
       "    </tr>\n",
       "    <tr>\n",
       "      <th>...</th>\n",
       "      <td>...</td>\n",
       "      <td>...</td>\n",
       "    </tr>\n",
       "    <tr>\n",
       "      <th>2995</th>\n",
       "      <td>18-Jul-24 11:30:00 AM IST</td>\n",
       "      <td>9.1</td>\n",
       "    </tr>\n",
       "    <tr>\n",
       "      <th>2996</th>\n",
       "      <td>18-Jul-24 11:45:00 AM IST</td>\n",
       "      <td>9.1</td>\n",
       "    </tr>\n",
       "    <tr>\n",
       "      <th>2997</th>\n",
       "      <td>18-Jul-24 12:00:01 PM IST</td>\n",
       "      <td>9.1</td>\n",
       "    </tr>\n",
       "    <tr>\n",
       "      <th>2998</th>\n",
       "      <td>18-Jul-24 12:15:00 PM IST</td>\n",
       "      <td>9.0</td>\n",
       "    </tr>\n",
       "    <tr>\n",
       "      <th>2999</th>\n",
       "      <td>18-Jul-24 12:30:00 PM IST</td>\n",
       "      <td>9.0</td>\n",
       "    </tr>\n",
       "  </tbody>\n",
       "</table>\n",
       "<p>3000 rows × 2 columns</p>\n",
       "</div>"
      ],
      "text/plain": [
       "                             ds     y\n",
       "0      17-Jun-24 6:45:00 AM IST  25.1\n",
       "1      17-Jun-24 7:00:00 AM IST  25.1\n",
       "2      17-Jun-24 7:15:00 AM IST  25.1\n",
       "3      17-Jun-24 7:30:01 AM IST  25.2\n",
       "4      17-Jun-24 7:45:00 AM IST  25.2\n",
       "...                         ...   ...\n",
       "2995  18-Jul-24 11:30:00 AM IST   9.1\n",
       "2996  18-Jul-24 11:45:00 AM IST   9.1\n",
       "2997  18-Jul-24 12:00:01 PM IST   9.1\n",
       "2998  18-Jul-24 12:15:00 PM IST   9.0\n",
       "2999  18-Jul-24 12:30:00 PM IST   9.0\n",
       "\n",
       "[3000 rows x 2 columns]"
      ]
     },
     "execution_count": 19,
     "metadata": {},
     "output_type": "execute_result"
    }
   ],
   "source": [
    "df"
   ]
  },
  {
   "cell_type": "code",
   "execution_count": 22,
   "id": "30438157-e116-456b-8f32-08a0e568fe59",
   "metadata": {},
   "outputs": [],
   "source": [
    "df['ds'] = pd.to_datetime(df['ds'], format='%d-%b-%y %I:%M:%S %p IST')\n",
    "\n",
    "# Format the datetime column to 'YYYY-MM-DD HH:MM:SS' format\n",
    "df['formatted_date'] = df['ds'].dt.strftime('%Y-%m-%d %H:%M:%S')"
   ]
  },
  {
   "cell_type": "code",
   "execution_count": 25,
   "id": "5e1209ee-fe83-4912-9bd5-d8c6728bfde4",
   "metadata": {},
   "outputs": [],
   "source": [
    "df=df.drop(columns=['formatted_date'])"
   ]
  },
  {
   "cell_type": "code",
   "execution_count": 28,
   "id": "ebb4d600-0f81-4e2e-b803-44f80c4a58db",
   "metadata": {},
   "outputs": [
    {
     "data": {
      "text/html": [
       "<div>\n",
       "<style scoped>\n",
       "    .dataframe tbody tr th:only-of-type {\n",
       "        vertical-align: middle;\n",
       "    }\n",
       "\n",
       "    .dataframe tbody tr th {\n",
       "        vertical-align: top;\n",
       "    }\n",
       "\n",
       "    .dataframe thead th {\n",
       "        text-align: right;\n",
       "    }\n",
       "</style>\n",
       "<table border=\"1\" class=\"dataframe\">\n",
       "  <thead>\n",
       "    <tr style=\"text-align: right;\">\n",
       "      <th></th>\n",
       "      <th>ds</th>\n",
       "      <th>y</th>\n",
       "    </tr>\n",
       "  </thead>\n",
       "  <tbody>\n",
       "    <tr>\n",
       "      <th>0</th>\n",
       "      <td>2024-06-17 06:45:00</td>\n",
       "      <td>25.1</td>\n",
       "    </tr>\n",
       "    <tr>\n",
       "      <th>1</th>\n",
       "      <td>2024-06-17 07:00:00</td>\n",
       "      <td>25.1</td>\n",
       "    </tr>\n",
       "    <tr>\n",
       "      <th>2</th>\n",
       "      <td>2024-06-17 07:15:00</td>\n",
       "      <td>25.1</td>\n",
       "    </tr>\n",
       "    <tr>\n",
       "      <th>3</th>\n",
       "      <td>2024-06-17 07:30:01</td>\n",
       "      <td>25.2</td>\n",
       "    </tr>\n",
       "    <tr>\n",
       "      <th>4</th>\n",
       "      <td>2024-06-17 07:45:00</td>\n",
       "      <td>25.2</td>\n",
       "    </tr>\n",
       "    <tr>\n",
       "      <th>...</th>\n",
       "      <td>...</td>\n",
       "      <td>...</td>\n",
       "    </tr>\n",
       "    <tr>\n",
       "      <th>2995</th>\n",
       "      <td>2024-07-18 11:30:00</td>\n",
       "      <td>9.1</td>\n",
       "    </tr>\n",
       "    <tr>\n",
       "      <th>2996</th>\n",
       "      <td>2024-07-18 11:45:00</td>\n",
       "      <td>9.1</td>\n",
       "    </tr>\n",
       "    <tr>\n",
       "      <th>2997</th>\n",
       "      <td>2024-07-18 12:00:01</td>\n",
       "      <td>9.1</td>\n",
       "    </tr>\n",
       "    <tr>\n",
       "      <th>2998</th>\n",
       "      <td>2024-07-18 12:15:00</td>\n",
       "      <td>9.0</td>\n",
       "    </tr>\n",
       "    <tr>\n",
       "      <th>2999</th>\n",
       "      <td>2024-07-18 12:30:00</td>\n",
       "      <td>9.0</td>\n",
       "    </tr>\n",
       "  </tbody>\n",
       "</table>\n",
       "<p>3000 rows × 2 columns</p>\n",
       "</div>"
      ],
      "text/plain": [
       "                      ds     y\n",
       "0    2024-06-17 06:45:00  25.1\n",
       "1    2024-06-17 07:00:00  25.1\n",
       "2    2024-06-17 07:15:00  25.1\n",
       "3    2024-06-17 07:30:01  25.2\n",
       "4    2024-06-17 07:45:00  25.2\n",
       "...                  ...   ...\n",
       "2995 2024-07-18 11:30:00   9.1\n",
       "2996 2024-07-18 11:45:00   9.1\n",
       "2997 2024-07-18 12:00:01   9.1\n",
       "2998 2024-07-18 12:15:00   9.0\n",
       "2999 2024-07-18 12:30:00   9.0\n",
       "\n",
       "[3000 rows x 2 columns]"
      ]
     },
     "execution_count": 28,
     "metadata": {},
     "output_type": "execute_result"
    }
   ],
   "source": [
    "df"
   ]
  },
  {
   "cell_type": "code",
   "execution_count": 8,
   "id": "00045f2d-979d-449c-b375-246a5e643696",
   "metadata": {},
   "outputs": [],
   "source": [
    "df['ds'] = pd.to_datetime(df['ds'], format='%Y-%m-%d')"
   ]
  },
  {
   "cell_type": "code",
   "execution_count": 12,
   "id": "da278809-151f-46d8-90a2-b96b1ad3aacf",
   "metadata": {},
   "outputs": [
    {
     "data": {
      "text/plain": [
       "dtype('<M8[ns]')"
      ]
     },
     "execution_count": 12,
     "metadata": {},
     "output_type": "execute_result"
    }
   ],
   "source": [
    "df['ds'].dtype"
   ]
  },
  {
   "cell_type": "code",
   "execution_count": 27,
   "id": "70b633dc-c477-4625-b485-c7674059d291",
   "metadata": {},
   "outputs": [],
   "source": [
    "df.to_csv('final1.csv', index=False)"
   ]
  },
  {
   "cell_type": "code",
   "execution_count": null,
   "id": "dbba72b4-5b5a-421e-9997-8795797192ed",
   "metadata": {},
   "outputs": [],
   "source": []
  }
 ],
 "metadata": {
  "kernelspec": {
   "display_name": "Python 3 (ipykernel)",
   "language": "python",
   "name": "python3"
  },
  "language_info": {
   "codemirror_mode": {
    "name": "ipython",
    "version": 3
   },
   "file_extension": ".py",
   "mimetype": "text/x-python",
   "name": "python",
   "nbconvert_exporter": "python",
   "pygments_lexer": "ipython3",
   "version": "3.12.3"
  }
 },
 "nbformat": 4,
 "nbformat_minor": 5
}
